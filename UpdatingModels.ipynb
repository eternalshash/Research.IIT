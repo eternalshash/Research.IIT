{
 "cells": [
  {
   "cell_type": "code",
   "execution_count": 3,
   "metadata": {},
   "outputs": [],
   "source": [
    "#The goal of this notebook is to build upon the Model Attempt2 notebook and devlop some minor tweaks to certain regression models\n",
    "\n",
    "#Import statements\n",
    "\n",
    "import pandas as pd\n",
    "import numpy as np \n",
    "import matplotlib.pyplot as plt\n",
    "\n",
    "from sklearn.linear_model import LinearRegression\n",
    "from scipy.spatial.distance import pdist, squareform\n",
    "from skbio.stats.distance import mantel\n"
   ]
  },
  {
   "cell_type": "code",
   "execution_count": 4,
   "metadata": {},
   "outputs": [],
   "source": [
    "#CSV files to be used\n",
    "# Next notebook will aim to merge all the processed data from \n",
    "# -> continued: all the supplementary tables worked through\n",
    "\n",
    "# Will look into labeling and processing the other supplementary\n",
    "# data next and will implement a similar process and eventually \n",
    "# start prepping data for the networkuing based algorithm creation\n"
   ]
  },
  {
   "cell_type": "code",
   "execution_count": 5,
   "metadata": {},
   "outputs": [],
   "source": [
    "csvfilePath5 = '/Users/schoudhry/Desktop/Supplementary Tables S5.csv'\n",
    "csvfilePath6 = '/Users/schoudhry/Desktop/Supplementary Tables S6 S6.csv'\n",
    "csvfilePath7 = '' # will implement once s5,6,7,8 get touched up \n",
    "csvfilePath8 = '/Users/schoudhry/Desktop/Supplementary Tables S8 S8.csv'"
   ]
  },
  {
   "cell_type": "code",
   "execution_count": null,
   "metadata": {},
   "outputs": [],
   "source": [
    "# Cleaning up data for the 8th supplementary table(s)"
   ]
  }
 ],
 "metadata": {
  "kernelspec": {
   "display_name": "base",
   "language": "python",
   "name": "python3"
  },
  "language_info": {
   "codemirror_mode": {
    "name": "ipython",
    "version": 3
   },
   "file_extension": ".py",
   "mimetype": "text/x-python",
   "name": "python",
   "nbconvert_exporter": "python",
   "pygments_lexer": "ipython3",
   "version": "3.11.5"
  }
 },
 "nbformat": 4,
 "nbformat_minor": 2
}
