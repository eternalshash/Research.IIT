{
 "cells": [
  {
   "cell_type": "code",
   "execution_count": null,
   "metadata": {},
   "outputs": [],
   "source": [
    "#The goal of this notebook is to build upon the Model Attempt2 notebook and devlop some minor tweaks to certain regression models\n",
    "\n",
    "#Import statements\n",
    "\n",
    "import pandas as pd\n",
    "import numpy as np \n",
    "import matpolotlib.pyplot as plt\n",
    "\n",
    "from sklearn.linear_model import LinearRegression\n",
    "from scipy.spatial.distance import pdist, squarform\n",
    "from skbio.stats.distance import mantel\n"
   ]
  }
 ],
 "metadata": {
  "language_info": {
   "name": "python"
  }
 },
 "nbformat": 4,
 "nbformat_minor": 2
}
