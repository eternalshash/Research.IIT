{
 "cells": [
  {
   "cell_type": "markdown",
   "metadata": {},
   "source": [
    "To be precise, the integration of bacterial and gene data across datasets S12 and S13 could become challenging, particularly as the clustering approach scales. On the other hand, a tiered clustering model offers a more strategic solution for forward-looking predictive models.  \n",
    "- The logical next step was to incorporate a tree-based clustering, which will facilitate re-clustering based on gene-level data. A notable issue encountered was dealing with missing or incomplete bacterial abundance values, which posed difficulties in mapping protocols.  \n",
    "- In this instance, when clustering bacteria based on abundance, the predictability of gene expression emerged as a key challenge, especially given the potential volume of null outcomes from the gene-side predictions.  \n",
    "- The subsequent method of re-clustering bacterial features provided a stronger foundation for accurate gene expression prediction.  \n",
    "- This second-level clustering introduced a crucial function where bacterial features were prioritized, producing a more adaptable framework for predictive analysis (akin to multi-level regression techniques).  \n",
    "- Implementing clustering based on bacterial abundance was straightforward, but during the exploratory data analysis (EDA), a persistent issue arose with incomplete bacterial taxa labels. A future API update could address this by allowing for flexible labeling mechanisms that don’t impact the integrity of the primary datasets.  \n",
    "- The tree-based clustering might present challenges for broader interpretation, but the algorithm has potential for in-depth breakdowns that can better explain the interactions between bacteria and gene expression outcomes.  \n",
    "- A more unconventional approach was taken in performing a second round of clustering on bacterial data, which deviated from standard protocol, but ensured all relevant data was parsed without loss of important features from S12 and S13. This ensured usability across multiple levels of analysis.  \n",
    "- The significance of outlier bacterial species has yet to be fully assessed. However, outliers are retained in the EDA, as their influence on gene expression models could offer critical insights in later stages of the project."
   ]
  },
  {
   "cell_type": "code",
   "execution_count": 1,
   "metadata": {},
   "outputs": [],
   "source": [
    "import pandas as pd\n",
    "import numpy as np \n",
    "import matplotlib.pyplot as plt\n",
    "import statsmodels.api as sm\n",
    "import statsmodels.formula.api as smf\n",
    "from sklearn.linear_model import LinearRegression\n",
    "from scipy.spatial.distance import pdist, squareform\n",
    "from skbio.stats.distance import mantel\n",
    "from sklearn.preprocessing import PolynomialFeatures\n",
    "from sklearn.metrics import mean_squared_error, r2_score\n",
    "from sklearn.metrics import silhouette_score\n",
    "from sklearn.cluster import KMeans\n",
    "\n",
    "# smf model issue ??"
   ]
  },
  {
   "cell_type": "code",
   "execution_count": 2,
   "metadata": {},
   "outputs": [
    {
     "data": {
      "text/plain": [
       "'\\nThe patients are coded b01 .. b0x\\nwith the genes being listed in the first column(column A)\\n\\ncheck the genes from s12 against the genes from \\nwhy use s6 \"The associations in the file are statistically significant, with a false \\ndiscovery rate (FDR) of less than 0.1. This means that the likelihood of identifying \\nfalse positives is controlled, ensuring that the associations are reliable \"\\n\\nFrom there\\ncheck the bacteria tree of each, focusing on the second in the tree\\nBacteria;Firmicutes;Clostridia;Clostridiales;Ruminococcaceae <- focus on Clostridia \\n\\ncheck the patients genes against the the genes with CRC from table s6\\nwith more occurances being more chance ??? -> prediction model ???? aimed to be made\\n\\n\\ncreate a dataframe with \\nS12 -> focusing on the gene(in column A)\\nS13 and S12 -> Row 1 (match up the values and re organize the table then print it out)\\nS12 and S13 -> once the values are matched, create a table from s12 that has the occurances of each gene\\nFor example column B2 -> would be:\\n        B01\\nTSPAN6   235\\nWhere TSPAN is the gene \\n235 the amount of the gene in patient B01\\n\\nthen from the S6 table\\ncheck which genes based on the amount of occurances would be likely to have CRC\\nthe taxa would be in the input feature(since it is Bacteria based(SECOND ON THE TREE))\\n\\nS13 and S6 -> check the bacteria against each other in the tables -> s6 and s13 focusingon the second in the tree\\nEx. -> Bacteria;Firmicutes;Clostridia;Clostridiales;Ruminococcaceae <- focus on Clostridia \\nS13 -> once organized alongside \\n\\n'"
      ]
     },
     "execution_count": 2,
     "metadata": {},
     "output_type": "execute_result"
    }
   ],
   "source": [
    "# Integrating S12 and S13\n",
    "# S12 is the List of Genes of the Patients(found in Column A)\n",
    "# Ex. -> B01 -> B03\n",
    "\n",
    "'''\n",
    "The patients are coded b01 .. b0x\n",
    "with the genes being listed in the first column(column A)\n",
    "\n",
    "check the genes from s12 against the genes from \n",
    "From there\n",
    "check the bacteria tree of each, focusing on the second in the tree\n",
    "Bacteria;Firmicutes;Clostridia;Clostridiales;Ruminococcaceae <- focus on Clostridia \n",
    "\n",
    "check the patients genes against the the genes with CRC from table s6\n",
    "with more occurances being more chance ??? -> prediction model ???? aimed to be made\n",
    "\n",
    "\n",
    "create a dataframe with \n",
    "S12 -> focusing on the gene(in column A)\n",
    "S13 and S12 -> Row 1 (match up the values and re organize the table then print it out)\n",
    "S12 and S13 -> once the values are matched, create a table from s12 that has the occurances of each gene\n",
    "For example column B2 -> would be:\n",
    "        B01x\n",
    "TSPAN6   235\n",
    "Where TSPAN is the gene \n",
    "235 the amount of the gene in patient B01\n",
    "\n",
    "\n",
    "\n",
    "S13 and S6 -> check the bacteria against each other in the tables -> s6 and s13 focusingon the second in the tree\n",
    "Ex. -> Bacteria;Firmicutes;Clostridia;Clostridiales;Ruminococcaceae <- focus on Clostridia \n",
    "S13 -> once organized alongside \n",
    "\n",
    "then from the S6 table\n",
    "check which genes based on the amount of occurances would be likely to have CRC\n",
    "the taxa would be in the input feature(since it is Bacteria based(SECOND ON THE TREE))\n",
    "\n",
    "from there check the gene through:\n",
    "with a high R-squared, low p-value, and valid after correction, could considered be a candidate for carrying CRC risk or involvement.\n",
    "\n",
    "'''"
   ]
  },
  {
   "cell_type": "markdown",
   "metadata": {},
   "source": [
    "After fitting the model, look for significant gene predictions that are well explained by certain bacterial taxa.\n",
    "A gene whose expression is consistently predicted by microbial abundance, with a high R-squared, low p-value, and valid after correction, could be a candidate for carrying CRC risk or involvement."
   ]
  },
  {
   "cell_type": "code",
   "execution_count": 3,
   "metadata": {},
   "outputs": [],
   "source": [
    "# CSV IMPORT(s)\n",
    "csv6 = '/Users/schoudhry/Desktop/IIT/Research/researchData/Supplementary Tables S6 S6.csv'\n",
    "csv12 = '/Users/schoudhry/Desktop/IIT/Research/researchData/StableS12.csv'\n",
    "csv13 = '/Users/schoudhry/Desktop/IIT/Research/researchData/Stable13.csv'\n",
    "\n"
   ]
  },
  {
   "cell_type": "code",
   "execution_count": null,
   "metadata": {},
   "outputs": [],
   "source": [
    "# Testing runs\n",
    "\n",
    "\n",
    "s12_df = pd.read_csv(csv12)\n",
    "s13_df = pd.read_csv(csv13)\n",
    "\n",
    "\n",
    "def get_second_tree(bacteria_tree):\n",
    "    return bacteria_tree.split(';')[1] if ';' in bacteria_tree else None\n",
    "\n",
    "s13_df['Second_Taxonomy'] = s13_df.iloc[:, 0].apply(get_second_tree)\n",
    "\n",
    "s12_genes = s12_df.iloc[:, 0]\n",
    "\n",
    "\n"
   ]
  }
 ],
 "metadata": {
  "kernelspec": {
   "display_name": "base",
   "language": "python",
   "name": "python3"
  },
  "language_info": {
   "codemirror_mode": {
    "name": "ipython",
    "version": 3
   },
   "file_extension": ".py",
   "mimetype": "text/x-python",
   "name": "python",
   "nbconvert_exporter": "python",
   "pygments_lexer": "ipython3",
   "version": "3.11.5"
  }
 },
 "nbformat": 4,
 "nbformat_minor": 2
}
